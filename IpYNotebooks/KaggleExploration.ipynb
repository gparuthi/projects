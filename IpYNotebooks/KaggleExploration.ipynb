{
 "metadata": {
  "name": "KaggleExploration"
 },
 "nbformat": 3,
 "nbformat_minor": 0,
 "worksheets": [
  {
   "cells": [
    {
     "cell_type": "code",
     "collapsed": false,
     "input": [
      "cd ../kaggle_experiment/data/"
     ],
     "language": "python",
     "metadata": {},
     "outputs": [
      {
       "output_type": "stream",
       "stream": "stdout",
       "text": [
        "/Users/gaurav/Documents/Work/kaggle_experiment/data\n"
       ]
      }
     ],
     "prompt_number": 1
    },
    {
     "cell_type": "code",
     "collapsed": false,
     "input": [
      "import csv\n",
      "import os\n",
      "from ujson import loads,dumps\n",
      "    \n",
      "def read_csv_file(filep):\n",
      "    ret = csv.reader(open(filep,'rU'), delimiter=',')\n",
      "    return ret\n",
      "\n",
      "\n",
      "def parse_lender_csv_data(data):\n",
      "    ret = {}\n",
      "    for rec in data:\n",
      "        ## there are problems with the data. This if statement is a conservative estimate for the lenders \n",
      "        if len(rec) == 6:\n",
      "            ret[rec[0]] = {'id':rec[0],'country':rec[1],'city':rec[2],'prof':rec[3], 'can':rec[4], 'date=':rec[5] }\n",
      "    return ret\n",
      "\n",
      "\n",
      "def writeJsonToFile(fpath,json):\n",
      "    if not os.path.isfile(fpath):\n",
      "        f= open(fpath,'wb')\n",
      "        f.write(dumps(json))\n",
      "        f.close()\n",
      "    else:\n",
      "        print 'file already exists: '+ fpath"
     ],
     "language": "python",
     "metadata": {},
     "outputs": [],
     "prompt_number": 22
    },
    {
     "cell_type": "code",
     "collapsed": false,
     "input": [],
     "language": "python",
     "metadata": {},
     "outputs": [],
     "prompt_number": 4
    },
    {
     "cell_type": "code",
     "collapsed": false,
     "input": [
      "# load lender data to dict from csv\n",
      "# this takes time \n",
      "lenders = parse_lender_csv_data(reader)"
     ],
     "language": "python",
     "metadata": {},
     "outputs": [],
     "prompt_number": 6
    },
    {
     "cell_type": "code",
     "collapsed": false,
     "input": [
      "len(lenders)"
     ],
     "language": "python",
     "metadata": {},
     "outputs": [
      {
       "output_type": "pyout",
       "prompt_number": 23,
       "text": [
        "808557"
       ]
      }
     ],
     "prompt_number": 23
    },
    {
     "cell_type": "code",
     "collapsed": false,
     "input": [
      "# write json to file\n",
      "writeJsonToFile('./lenders.json',lenders)"
     ],
     "language": "python",
     "metadata": {},
     "outputs": [],
     "prompt_number": "*"
    },
    {
     "cell_type": "code",
     "collapsed": false,
     "input": [],
     "language": "python",
     "metadata": {},
     "outputs": [],
     "prompt_number": 25
    },
    {
     "cell_type": "code",
     "collapsed": false,
     "input": [],
     "language": "python",
     "metadata": {},
     "outputs": [
      {
       "ename": "NameError",
       "evalue": "name 'y' is not defined",
       "output_type": "pyerr",
       "traceback": [
        "\u001b[0;31m---------------------------------------------------------------------------\u001b[0m\n\u001b[0;31mNameError\u001b[0m                                 Traceback (most recent call last)",
        "\u001b[0;32m<ipython-input-19-009520053b00>\u001b[0m in \u001b[0;36m<module>\u001b[0;34m()\u001b[0m\n\u001b[0;32m----> 1\u001b[0;31m \u001b[0my\u001b[0m\u001b[0;34m\u001b[0m\u001b[0m\n\u001b[0m",
        "\u001b[0;31mNameError\u001b[0m: name 'y' is not defined"
       ]
      }
     ],
     "prompt_number": 19
    },
    {
     "cell_type": "code",
     "collapsed": false,
     "input": [],
     "language": "python",
     "metadata": {},
     "outputs": []
    }
   ],
   "metadata": {}
  }
 ]
}
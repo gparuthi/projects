{
 "metadata": {
  "name": "All_locations_perhour_stats"
 },
 "nbformat": 3,
 "nbformat_minor": 0,
 "worksheets": [
  {
   "cells": [
    {
     "cell_type": "code",
     "collapsed": false,
     "input": [
      "from ujson import loads\n",
      "from dateutil.parser import parse\n",
      "import csv"
     ],
     "language": "python",
     "metadata": {},
     "outputs": [],
     "prompt_number": 17
    },
    {
     "cell_type": "code",
     "collapsed": false,
     "input": [
      "f = open('./DataMining/uncompressed/all_locations/all_locs_reduced.json1')\n",
      "json = loads(f.read())"
     ],
     "language": "python",
     "metadata": {},
     "outputs": [],
     "prompt_number": 3
    },
    {
     "cell_type": "code",
     "collapsed": false,
     "input": [
      "def getStd(city_dict):\n",
      "    avg = numpy.std([city_dict[t] for t in city_dict])\n",
      "    std = numpy.std([city_dict[t] for t in city_dict])\n",
      "    return std\n",
      "\n",
      "def get_per_change(timein, city_dict):\n",
      "    main_hr_count = city_dict[timein]\n",
      "    hrsd = []\n",
      "    for t in city_dict:\n",
      "        if t.hour == 4 and t != timein:\n",
      "            hrsd.append(city_dict[t])\n",
      "            \n",
      "    avg = numpy.average(hrsd)\n",
      "    std = numpy.std(hrsd)\n",
      "    abs_change = (main_hr_count-avg)\n",
      "    per_change = abs_change/avg*100\n",
      "    return abs_change,per_change,avg,std\n",
      "\n",
      "def get_cities_dict(loc_list, locs):\n",
      "    dicts = {}\n",
      "    for input_loc in loc_list:\n",
      "        if len(dicts)%100==0:\n",
      "            print 'procesing ['+ str(len(dicts))+'/'+str(len(loc_list))+']): '+input_loc\n",
      "        loc_dict = {}\n",
      "        for k in locs:\n",
      "            date = parse(k)\n",
      "            loc_dict[date] = 0\n",
      "            for loc in locs[k]:\n",
      "                if input_loc in loc:\n",
      "                    loc_dict[date] += locs[k][loc]\n",
      "        dicts[input_loc] = loc_dict\n",
      "    \n",
      "    return dicts"
     ],
     "language": "python",
     "metadata": {},
     "outputs": [],
     "prompt_number": 26
    },
    {
     "cell_type": "raw",
     "metadata": {},
     "source": [
      "# Find these stats for all cities: %change from avg, %change for an hour, std_dev of %change for an hour\n",
      "# date under consideration\n",
      "time_in = parse('2012-11-7 4:0:0')\n",
      "\n",
      "# get loc_dict\n",
      "locs_dict= get_cities_dict(json[time_in.isoformat()].keys(), json)\n",
      "\n",
      "len(locs_dict)"
     ]
    },
    {
     "cell_type": "code",
     "collapsed": false,
     "input": [
      "def write_items_to_file(items, selfpath):\n",
      "    writer = csv.writer(open(selfpath, 'wb'))\n",
      "    new_items = [(a.encode('utf-8'),b,c,d,e) for a,b,c,d,e in items]\n",
      "    for item in new_items:\n",
      "        writer.writerow(item)\n",
      "        \n",
      "### generate the final output for each loc\n",
      "items =[]\n",
      "time_in = parse('2012-11-7 4:0:0')\n",
      "items.append(('location', 'per change', 'abs change','avg', 'standard dev'))\n",
      "for loc in locs_dict:\n",
      "    abs_change,per_change,avg,std = get_per_change(time_in,locs_dict[loc])\n",
      "    t = (loc, per_change, abs_change,avg, std)\n",
      "    items.append(t)\n",
      "\n",
      "write_items_to_file(items, \"./DataMining/uncompressed/all_locations/stats/locs.csv\")\n",
      "    \n",
      "    "
     ],
     "language": "python",
     "metadata": {},
     "outputs": [],
     "prompt_number": 29
    },
    {
     "cell_type": "code",
     "collapsed": false,
     "input": [
      "items[0]\n"
     ],
     "language": "python",
     "metadata": {},
     "outputs": [
      {
       "output_type": "pyout",
       "prompt_number": 30,
       "text": [
        "('location', 'per change', 'abs change', 'avg', 'standard dev')"
       ]
      }
     ],
     "prompt_number": 30
    },
    {
     "cell_type": "code",
     "collapsed": false,
     "input": [
      "locs_dict['here there and everywhere'].keys()"
     ],
     "language": "python",
     "metadata": {},
     "outputs": [],
     "prompt_number": "*"
    },
    {
     "cell_type": "code",
     "collapsed": false,
     "input": [],
     "language": "python",
     "metadata": {},
     "outputs": []
    }
   ],
   "metadata": {}
  }
 ]
}